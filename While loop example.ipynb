{
 "cells": [
  {
   "cell_type": "code",
   "execution_count": 1,
   "metadata": {},
   "outputs": [
    {
     "name": "stdout",
     "output_type": "stream",
     "text": [
      "idris\n"
     ]
    }
   ],
   "source": [
    "print('idris')"
   ]
  },
  {
   "cell_type": "code",
   "execution_count": 2,
   "metadata": {},
   "outputs": [
    {
     "name": "stdout",
     "output_type": "stream",
     "text": [
      "idris\n"
     ]
    }
   ],
   "source": [
    "#this is just a very basic example of while loop to understand\n",
    "name=input('Enter your name : ')\n",
    "while len(name)==0:\n",
    "    name=input('Please enter your name first: ')\n",
    "print(name)\n"
   ]
  },
  {
   "cell_type": "code",
   "execution_count": 6,
   "metadata": {},
   "outputs": [
    {
     "name": "stdout",
     "output_type": "stream",
     "text": [
      "You have succesfully logged into your account\n",
      "Your password is incorrect please try again\n",
      "Your password is incorrect please try again\n",
      "Your password is incorrect please try again\n",
      "Your password is incorrect please try again\n"
     ]
    }
   ],
   "source": [
    "password='idris'\n",
    "max_attemps=3\n",
    "attemps=0\n",
    "\n",
    "while attemps<=max_attemps:\n",
    "    user_input=input('Enter your password to log in')\n",
    "    if user_input=='idris':\n",
    "        print('You have succesfully logged into your account')\n",
    "        break\n",
    "    else:\n",
    "        attemps +=1\n",
    "        print('Your password is incorrect please try again')\n",
    "if attemps==max_attemps:\n",
    "    print(\"Your account has suspended because of the false attemps\")    "
   ]
  },
  {
   "cell_type": "code",
   "execution_count": null,
   "metadata": {},
   "outputs": [],
   "source": []
  },
  {
   "cell_type": "code",
   "execution_count": null,
   "metadata": {},
   "outputs": [],
   "source": []
  }
 ],
 "metadata": {
  "kernelspec": {
   "display_name": "Python 3",
   "language": "python",
   "name": "python3"
  },
  "language_info": {
   "codemirror_mode": {
    "name": "ipython",
    "version": 3
   },
   "file_extension": ".py",
   "mimetype": "text/x-python",
   "name": "python",
   "nbconvert_exporter": "python",
   "pygments_lexer": "ipython3",
   "version": "3.10.6"
  },
  "orig_nbformat": 4
 },
 "nbformat": 4,
 "nbformat_minor": 2
}
